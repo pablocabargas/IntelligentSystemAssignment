{
 "cells": [
  {
   "cell_type": "markdown",
   "metadata": {},
   "source": [
    "# 0 Imports"
   ]
  },
  {
   "cell_type": "code",
   "execution_count": 389,
   "metadata": {},
   "outputs": [],
   "source": [
    "import pandas as pd\n",
    "from sklearn.feature_extraction.text import CountVectorizer\n",
    "from sklearn.feature_extraction.text import TfidfVectorizer\n",
    "from sklearn.model_selection import train_test_split\n",
    "\n",
    "from sklearn.naive_bayes import MultinomialNB\n",
    "from sklearn.linear_model import LogisticRegression\n",
    "from sklearn.neural_network import MLPClassifier\n",
    "\n",
    "from sklearn import metrics\n",
    "from sklearn.metrics import plot_confusion_matrix\n"
   ]
  },
  {
   "cell_type": "markdown",
   "metadata": {},
   "source": [
    "# 1. Import data"
   ]
  },
  {
   "cell_type": "code",
   "execution_count": 390,
   "metadata": {},
   "outputs": [],
   "source": [
    "#Read train csv\n",
    "data_train = pd.read_csv('train.csv')\n",
    "data_train = data_train[['selected_text','sentiment']]\n",
    "\n",
    "#Read test csv\n",
    "data_test = pd.read_csv('test.csv')\n",
    "data_test = data_test[['text','sentiment']]\n",
    "data_test = data_test.rename(columns = {'text':'selected_text'})\n",
    "\n",
    "#Join 2 sets to split 0.33 data to test\n",
    "data_total = pd.concat([data_train,data_test])\n",
    "\n",
    "#split data into train and test\n",
    "data_train, data_test, y_train, y_test = train_test_split(data_total['selected_text'], data_total['sentiment'], test_size=0.33, random_state=42)\n",
    "\n",
    "data_train = pd.DataFrame({'selected_text':data_train,'sentiment':y_train})\n",
    "data_test = pd.DataFrame({'selected_text':data_test,'sentiment':y_test})\n",
    "\n",
    "\n",
    "#Organize on list\n",
    "data_train = data_train.dropna(subset = ['selected_text'])\n",
    "X_train = data_train['selected_text'].to_list()\n",
    "y_train = data_train['sentiment'].to_list()"
   ]
  },
  {
   "cell_type": "markdown",
   "metadata": {},
   "source": [
    "# 2. Choose wich vectorization to use"
   ]
  },
  {
   "cell_type": "code",
   "execution_count": 392,
   "metadata": {},
   "outputs": [
    {
     "name": "stdout",
     "output_type": "stream",
     "text": [
      "Top 10 words: good     1023\n",
      "just      956\n",
      "day       915\n",
      "love      725\n",
      "happy     662\n",
      "like      612\n",
      "work      503\n",
      "today     482\n",
      "going     469\n",
      "lol       458\n",
      "dtype: int64\n"
     ]
    }
   ],
   "source": [
    "# Fit vectorizer\n",
    "# elective input on Vectorizer stop_words='english'\n",
    "cv = CountVectorizer(stop_words = 'english') # Keep this to obtain bag of words vectorization\n",
    "#cv = TfidfVectorizer(stop_words = 'english') # Keep this to obtain tfidf vectorization\n",
    "\n",
    "cv.fit(X_train)\n",
    "\n",
    "#Turn data to vectorial form\n",
    "X_train_matrix = cv.transform(X_train)\n",
    "X_train_df = pd.DataFrame(X_train_matrix.toarray(), columns=cv.get_feature_names())\n",
    "\n",
    "#Show top 10 most repeated or highest ranked words depending on vectorization chosen\n",
    "sum_words = X_train_df.sum(axis=0)\n",
    "print(\"Top 10 words:\",sum_words.sort_values(ascending = False)[0:10])\n",
    "\n",
    "#Apply transformation to test data \n",
    "data_test = data_test.dropna(subset = ['selected_text'])\n",
    "X_test = data_test['selected_text'].to_list()\n",
    "y_test = data_test['sentiment'].to_list()\n",
    "\n",
    "X_test_matrix = cv.transform(X_test)\n",
    "X_test_df = pd.DataFrame(X_test_matrix.toarray(), columns=cv.get_feature_names())"
   ]
  },
  {
   "cell_type": "markdown",
   "metadata": {},
   "source": [
    "# 3. MLP"
   ]
  },
  {
   "cell_type": "code",
   "execution_count": 393,
   "metadata": {},
   "outputs": [
    {
     "name": "stdout",
     "output_type": "stream",
     "text": [
      "accuracy 0.7587689301416707\n",
      "confusion matrix [[2153  572  180]\n",
      " [ 594 3102  483]\n",
      " [ 236  404 2511]]\n"
     ]
    },
    {
     "name": "stderr",
     "output_type": "stream",
     "text": [
      "/Users/pablocabargas/opt/anaconda3/lib/python3.7/site-packages/sklearn/neural_network/_multilayer_perceptron.py:696: ConvergenceWarning: Stochastic Optimizer: Maximum iterations (10) reached and the optimization hasn't converged yet.\n",
      "  ConvergenceWarning,\n",
      "/Users/pablocabargas/opt/anaconda3/lib/python3.7/site-packages/sklearn/utils/deprecation.py:87: FutureWarning: Function plot_confusion_matrix is deprecated; Function `plot_confusion_matrix` is deprecated in 1.0 and will be removed in 1.2. Use one of the class methods: ConfusionMatrixDisplay.from_predictions or ConfusionMatrixDisplay.from_estimator.\n",
      "  warnings.warn(msg, category=FutureWarning)\n"
     ]
    },
    {
     "data": {
      "text/plain": [
       "<sklearn.metrics._plot.confusion_matrix.ConfusionMatrixDisplay at 0x7fb45d567f10>"
      ]
     },
     "execution_count": 393,
     "metadata": {},
     "output_type": "execute_result"
    },
    {
     "data": {
      "image/png": "[encoded data removed]",
      "text/plain": [
       "<Figure size 432x288 with 1 Axes>"
      ]
     },
     "metadata": {
      "needs_background": "light"
     },
     "output_type": "display_data"
    }
   ],
   "source": [
    "clf = MLPClassifier(random_state=1, max_iter=10)\n",
    "clf.fit(X_train_matrix, y_train)\n",
    "\n",
    "y_pred_class = clf.predict(X_test_matrix)\n",
    "\n",
    "print(\"accuracy\",metrics.accuracy_score(y_test, y_pred_class))\n",
    "print(\"confusion matrix\",metrics.confusion_matrix(y_test, y_pred_class))\n",
    "\n",
    "plot_confusion_matrix(clf,X_test_matrix,y_test,cmap = 'Blues',colorbar = False)"
   ]
  },
  {
   "cell_type": "markdown",
   "metadata": {},
   "source": [
    "# 4. multinomial NB"
   ]
  },
  {
   "cell_type": "code",
   "execution_count": 394,
   "metadata": {},
   "outputs": [
    {
     "name": "stdout",
     "output_type": "stream",
     "text": [
      "accuracy: 0.7503663898387885\n",
      "confusion_matrix [[1708 1038  159]\n",
      " [ 235 3606  338]\n",
      " [  61  724 2366]]\n"
     ]
    },
    {
     "name": "stderr",
     "output_type": "stream",
     "text": [
      "/Users/pablocabargas/opt/anaconda3/lib/python3.7/site-packages/sklearn/utils/deprecation.py:87: FutureWarning: Function plot_confusion_matrix is deprecated; Function `plot_confusion_matrix` is deprecated in 1.0 and will be removed in 1.2. Use one of the class methods: ConfusionMatrixDisplay.from_predictions or ConfusionMatrixDisplay.from_estimator.\n",
      "  warnings.warn(msg, category=FutureWarning)\n"
     ]
    },
    {
     "data": {
      "text/plain": [
       "<sklearn.metrics._plot.confusion_matrix.ConfusionMatrixDisplay at 0x7fb1967a3490>"
      ]
     },
     "execution_count": 394,
     "metadata": {},
     "output_type": "execute_result"
    },
    {
     "data": {
      "image/png": "[encoded data removed]",
      "text/plain": [
       "<Figure size 432x288 with 1 Axes>"
      ]
     },
     "metadata": {
      "needs_background": "light"
     },
     "output_type": "display_data"
    }
   ],
   "source": [
    "nb = MultinomialNB()\n",
    "nb.fit(X_train_matrix, y_train)\n",
    "\n",
    "y_pred_class = nb.predict(X_test_matrix)\n",
    "\n",
    "print(\"accuracy:\",metrics.accuracy_score(y_test, y_pred_class))\n",
    "\n",
    "print(\"confusion_matrix\",metrics.confusion_matrix(y_test, y_pred_class))\n",
    "\n",
    "plot_confusion_matrix(nb,X_test_matrix,y_test,cmap = 'Blues',colorbar = False)"
   ]
  },
  {
   "cell_type": "markdown",
   "metadata": {},
   "source": [
    "# 5. Logistic Regression"
   ]
  },
  {
   "cell_type": "code",
   "execution_count": 395,
   "metadata": {},
   "outputs": [
    {
     "name": "stdout",
     "output_type": "stream",
     "text": [
      "accuracy: 0.7707865168539326\n",
      "confusion matrix: [[2214  524  167]\n",
      " [ 585 3166  428]\n",
      " [ 244  398 2509]]\n"
     ]
    },
    {
     "name": "stderr",
     "output_type": "stream",
     "text": [
      "/Users/pablocabargas/opt/anaconda3/lib/python3.7/site-packages/sklearn/utils/deprecation.py:87: FutureWarning: Function plot_confusion_matrix is deprecated; Function `plot_confusion_matrix` is deprecated in 1.0 and will be removed in 1.2. Use one of the class methods: ConfusionMatrixDisplay.from_predictions or ConfusionMatrixDisplay.from_estimator.\n",
      "  warnings.warn(msg, category=FutureWarning)\n"
     ]
    },
    {
     "data": {
      "text/plain": [
       "<sklearn.metrics._plot.confusion_matrix.ConfusionMatrixDisplay at 0x7fb12a592b90>"
      ]
     },
     "execution_count": 395,
     "metadata": {},
     "output_type": "execute_result"
    },
    {
     "data": {
      "image/png": "[encoded data removed]",
      "text/plain": [
       "<Figure size 432x288 with 1 Axes>"
      ]
     },
     "metadata": {
      "needs_background": "light"
     },
     "output_type": "display_data"
    }
   ],
   "source": [
    "\n",
    "logreg = LogisticRegression(solver='liblinear')\n",
    "logreg.fit(X_train_matrix, y_train)\n",
    "\n",
    "y_pred_class = logreg.predict(X_test_matrix)\n",
    "\n",
    "print(\"accuracy:\",metrics.accuracy_score(y_test, y_pred_class))\n",
    "print(\"confusion matrix:\",metrics.confusion_matrix(y_test, y_pred_class))\n",
    "\n",
    "plot_confusion_matrix(logreg,X_test_matrix,y_test,cmap = 'Blues',colorbar = False)"
   ]
  }
 ],
 "metadata": {
  "kernelspec": {
   "display_name": "Python 3",
   "language": "python",
   "name": "python3"
  },
  "language_info": {
   "codemirror_mode": {
    "name": "ipython",
    "version": 3
   },
   "file_extension": ".py",
   "mimetype": "text/x-python",
   "name": "python",
   "nbconvert_exporter": "python",
   "pygments_lexer": "ipython3",
   "version": "3.7.6"
  }
 },
 "nbformat": 4,
 "nbformat_minor": 5
}
